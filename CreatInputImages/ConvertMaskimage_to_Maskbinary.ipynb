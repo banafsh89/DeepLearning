{
 "cells": [
  {
   "cell_type": "code",
   "execution_count": null,
   "metadata": {},
   "outputs": [],
   "source": [
    "import numpy as np\n",
    "np.set_printoptions(precision=16)\n",
    "from skimage.io import imread\n",
    "import os, glob\n",
    "\n",
    "# to fix the DecompressionBombWarning We set the max image size to be undefined \n",
    "from PIL import Image\n",
    "Image.MAX_IMAGE_PIXELS = None"
   ]
  },
  {
   "cell_type": "code",
   "execution_count": null,
   "metadata": {},
   "outputs": [],
   "source": [
    "fns_res=sorted(glob.glob(os.path.join('imageHR/ImageMasks_Pixelmator/','*')))\n",
    "for i in range(len(fns_res)):\n",
    "    \n",
    "    maskfileS=glob.glob(os.path.join(fns_res[i],'*'))\n",
    "    if len(maskfileS)>0:\n",
    "        fns_save=\"../test\"#'imageHR/mask/'\n",
    "        print(maskfileS[0])\n",
    "        imL=imread(maskfileS[0])\n",
    "        rows, cols, bands = imL.shape\n",
    "        maskS=np.zeros((rows,cols))\n",
    "        n=fns_res[i].split(\"ImageMasks_Pixelmator/\")[-1]\n",
    "        freq=\"{}.{}\".format(n.split(\"p\")[0],n.split(\"p\")[1])\n",
    "        print(freq)\n",
    "        for j in range(len(maskfileS)):\n",
    "            imL=imread(maskfileS[j])\n",
    "            imL=imL[:,:,:3]\n",
    "            nonz=np.transpose(np.nonzero(imL))[:,:2]\n",
    "            listindex=np.transpose(nonz)\n",
    "            listindex=listindex.tolist()\n",
    "            maskS[tuple(listindex)]=j+1\n",
    "        \n",
    "        np.save('{}/maskS_bin{}'.format(fns_save,freq),maskS)"
   ]
  },
  {
   "cell_type": "code",
   "execution_count": null,
   "metadata": {},
   "outputs": [],
   "source": []
  }
 ],
 "metadata": {
  "kernelspec": {
   "display_name": "Python 3 (ipykernel)",
   "language": "python",
   "name": "python3"
  },
  "language_info": {
   "codemirror_mode": {
    "name": "ipython",
    "version": 3
   },
   "file_extension": ".py",
   "mimetype": "text/x-python",
   "name": "python",
   "nbconvert_exporter": "python",
   "pygments_lexer": "ipython3",
   "version": "3.9.12"
  }
 },
 "nbformat": 4,
 "nbformat_minor": 2
}
